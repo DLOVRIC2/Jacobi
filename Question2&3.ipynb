{
 "cells": [
  {
   "cell_type": "markdown",
   "id": "d16bb08d",
   "metadata": {},
   "source": [
    "### 2. Maximize your NPV\n",
    "\n",
    "You are the chief investment officer of a big company and your research team presents you with a list of possible\n",
    "projects to invest in. For each project they have calculated the expected NPV, which is summarised in the list bellow.\n",
    "\n",
    "[13, 14, 2, 3, 1, 5, 4, 18, 17, 19, 5, 6, 9, 1]\n",
    "(Here, the value in the ith index corresponds to the expected NPV of the ith project.)\n",
    "\n",
    "Each pair of consecutive projects are mutually exclusive (if you invest in the ith project you cannot invest (i+1)th or\n",
    "(i-1)th project). The total number of projects you can invest in is unconstrained.\n",
    "\n",
    "What is the maximum total expected NPV you would achieve by investing in the optimal permissible subset of projects?"
   ]
  },
  {
   "cell_type": "code",
   "execution_count": 60,
   "id": "2631f7ab",
   "metadata": {},
   "outputs": [],
   "source": [
    "npv = [13, 14, 2, 3, 1, 5, 4, 18, 17, 19, 5, 6, 9, 1]"
   ]
  },
  {
   "cell_type": "code",
   "execution_count": 136,
   "id": "11a8472f",
   "metadata": {},
   "outputs": [],
   "source": [
    "def max_nvp(array):\n",
    "    '''\n",
    "    Calculates maximum total expected NPV based on input array.\n",
    "    \n",
    "    Array - Value of the ith index in the array corresponds to the expected NPV of the ith project\n",
    "    \n",
    "    Rules:\n",
    "    \n",
    "    - Each pair of consecutive values in the array are mutually exclusive\n",
    "    - The total number of projects that can be invested in is unconstrained\n",
    "    \n",
    "    Logic:\n",
    "    \n",
    "    If an array [1,2,3,4,5] is passed, the code will start by setting included value (incl[0]) to the\n",
    "    first number of the array and exluded to zero.\n",
    "    \n",
    "    incl = [1, 0, 0, 0, 0]\n",
    "    exl = 0\n",
    "    \n",
    "    Running through a loop we will check if exluded value + the new value in the array is\n",
    "    greater than the previous included value. (if 0+2 > 1)\n",
    "    \n",
    "    If so, this is now our new included value and excluded value becomes included value from the\n",
    "    previous loop.\n",
    "    \n",
    "    incl = [1, 2, 0, 0, 0]\n",
    "    exl = 1\n",
    "    \n",
    "    ...\n",
    "    \n",
    "    At the final step we will have:\n",
    "    \n",
    "    incl = [1, 2, 4, 6, 9]\n",
    "    exl = 6\n",
    "    \n",
    "    So the maximum NPV that can be achieved is stored as the last value in the incl list\n",
    "    \n",
    "    Hence, maxNPV = incl[-1]\n",
    "    '''\n",
    "    #Creating a list of zeros that corresponds to the length of the input array\n",
    "    incl = [0 for i in range(len(array))]\n",
    "    \n",
    "    #As negative values in the array would impact the algorithm, they are simply replaced with zero.\n",
    "    for i in range(len(array)):\n",
    "        if array[i] < 0:\n",
    "            array[i] = 0\n",
    "        else:\n",
    "            continue\n",
    "    \n",
    "    incl[0] = array[0]\n",
    "    exl = 0\n",
    "    \n",
    "    #Not to raise any errors if an input array ends up being just 1 number.\n",
    "    if len(array) == 1:\n",
    "        maxNPV = incl[0]\n",
    "        return maxNPV\n",
    "    \n",
    "    #Required reccurance to get the max() value.\n",
    "    else:\n",
    "        for i in range(1, len(array)):\n",
    "            incl[i] = max(exl+array[i], incl[i-1])\n",
    "            exl = incl[i-1]\n",
    "            \n",
    "        maxNPV = incl[-1]\n",
    "        \n",
    "        return maxNPV"
   ]
  },
  {
   "cell_type": "code",
   "execution_count": 141,
   "id": "f0c83c77",
   "metadata": {},
   "outputs": [
    {
     "data": {
      "text/plain": [
       "68"
      ]
     },
     "execution_count": 141,
     "metadata": {},
     "output_type": "execute_result"
    }
   ],
   "source": [
    "max_nvp(npv)"
   ]
  },
  {
   "cell_type": "code",
   "execution_count": null,
   "id": "6ba965d3",
   "metadata": {},
   "outputs": [],
   "source": []
  },
  {
   "cell_type": "markdown",
   "id": "0c1b797e",
   "metadata": {},
   "source": [
    "### 3. Roundabout arithmetic with functions\n",
    "\n",
    "Fill out the template to write simple calculations using functions.\n",
    "\n",
    "Requirements:\n",
    "\n",
    "There must be a function for each number from 0 (\"zero\") to 9 (\"nine\")\n",
    "There must be a function for each of the following mathematical operations: plus, minus, times, divided_by\n",
    "Each calculation consist of exactly one operation and two numbers\n",
    "The most outer function represents the left operand, the most inner function represents the right operand\n",
    "Division should be integer division, e.g eight(divided_by(three)) should return 2, not 2.66666...\n",
    "\n",
    "Examples:\n",
    "\n",
    "seven(times(five))  must return 35\n",
    "\n",
    "four(plus(nine))  must return 13\n",
    "\n",
    "eight(minus(three))  must return 5\n",
    "\n",
    "six(divided_by(two))  must return 3\n",
    "\n"
   ]
  },
  {
   "cell_type": "code",
   "execution_count": 142,
   "id": "4f055290",
   "metadata": {},
   "outputs": [],
   "source": [
    "def zero(f = None): return 0 if not f else f(0)\n",
    "def one(f = None): return 1 if not f else f(1)\n",
    "def two(f = None): return 2 if not f else f(2) \n",
    "def three(f = None): return 3 if not f else f(3)\n",
    "def four(f = None): return 4 if not f else f(4)\n",
    "def five(f = None): return 5 if not f else f(5)\n",
    "def six(f = None): return 6 if not f else f(6)\n",
    "def seven(f = None): return 7 if not f else f(7)\n",
    "def eight(f = None): return 8 if not f else f(8)\n",
    "def nine(f = None): return 9 if not f else f(9)\n",
    "\n",
    "def plus(y): return lambda x: x+y\n",
    "def minus(y): return lambda x: x-y\n",
    "def times(y): return lambda x: x*y\n",
    "def divided_by(y): return lambda x: x//2"
   ]
  },
  {
   "cell_type": "code",
   "execution_count": 143,
   "id": "dfad5cd2",
   "metadata": {},
   "outputs": [
    {
     "data": {
      "text/plain": [
       "35"
      ]
     },
     "execution_count": 143,
     "metadata": {},
     "output_type": "execute_result"
    }
   ],
   "source": [
    "seven(times(five()))"
   ]
  },
  {
   "cell_type": "code",
   "execution_count": 144,
   "id": "7d790f0d",
   "metadata": {},
   "outputs": [
    {
     "data": {
      "text/plain": [
       "13"
      ]
     },
     "execution_count": 144,
     "metadata": {},
     "output_type": "execute_result"
    }
   ],
   "source": [
    "four(plus(nine()))"
   ]
  },
  {
   "cell_type": "code",
   "execution_count": 151,
   "id": "ca246716",
   "metadata": {},
   "outputs": [
    {
     "data": {
      "text/plain": [
       "5"
      ]
     },
     "execution_count": 151,
     "metadata": {},
     "output_type": "execute_result"
    }
   ],
   "source": [
    "eight(minus(three()))"
   ]
  },
  {
   "cell_type": "code",
   "execution_count": 154,
   "id": "514a8ab7",
   "metadata": {},
   "outputs": [
    {
     "data": {
      "text/plain": [
       "3"
      ]
     },
     "execution_count": 154,
     "metadata": {},
     "output_type": "execute_result"
    }
   ],
   "source": [
    "six(divided_by(two()))"
   ]
  },
  {
   "cell_type": "code",
   "execution_count": null,
   "id": "92041e01",
   "metadata": {},
   "outputs": [],
   "source": []
  }
 ],
 "metadata": {
  "kernelspec": {
   "display_name": "Python 3 (ipykernel)",
   "language": "python",
   "name": "python3"
  },
  "language_info": {
   "codemirror_mode": {
    "name": "ipython",
    "version": 3
   },
   "file_extension": ".py",
   "mimetype": "text/x-python",
   "name": "python",
   "nbconvert_exporter": "python",
   "pygments_lexer": "ipython3",
   "version": "3.9.12"
  }
 },
 "nbformat": 4,
 "nbformat_minor": 5
}
